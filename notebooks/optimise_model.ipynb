{
 "cells": [
  {
   "cell_type": "code",
   "execution_count": 0,
   "metadata": {
    "application/vnd.databricks.v1+cell": {
     "cellMetadata": {
      "byteLimit": 2048000,
      "rowLimit": 10000
     },
     "inputWidgets": {},
     "nuid": "b280926e-121f-4bf5-8c79-ae6468a437c2",
     "showTitle": false,
     "tableResultSettingsMap": {},
     "title": ""
    },
    "jupyter": {
     "outputs_hidden": true
    }
   },
   "outputs": [
    {
     "output_type": "display_data",
     "data": {
      "text/markdown": [
       "# Transform data\n",
       "In this notebook we perform transformations required to get required features for modelling."
      ]
     },
     "metadata": {},
     "output_type": "display_data"
    },
    {
     "output_type": "display_data",
     "data": {
      "text/markdown": [
       "# Transform data\n",
       "First we will clean variables that contain values that are interpreted as missing or 0 values."
      ]
     },
     "metadata": {},
     "output_type": "display_data"
    },
    {
     "output_type": "stream",
     "name": "stdout",
     "output_type": "stream",
     "text": [
      "+--------------+-----+\n|_AGEG5YR_clean|count|\n+--------------+-----+\n|           1.0|29692|\n|           6.0|28968|\n|           4.0|28804|\n|           5.0|30899|\n|           8.0|34936|\n|           NaN| 8310|\n|          10.0|47701|\n|           7.0|31698|\n|          13.0|41756|\n|          11.0|44774|\n|           2.0|23705|\n|           9.0|43387|\n|          12.0|36803|\n|           3.0|26237|\n+--------------+-----+\n\n"
     ]
    },
    {
     "output_type": "stream",
     "name": "stdout",
     "output_type": "stream",
     "text": [
      "+------------------+------+\n|CHILDREN_clean_mod| count|\n+------------------+------+\n|              14.0|    13|\n|              NULL|  5606|\n|              23.0|     1|\n|               0.0|336299|\n|              32.0|     2|\n|              22.0|     3|\n|              29.0|     1|\n|              18.0|     1|\n|               1.0| 48206|\n|               6.0|   695|\n|              25.0|     1|\n|              15.0|     5|\n|               4.0|  5672|\n|              41.0|     1|\n|               5.0|  1854|\n|               8.0|   127|\n|              81.0|    12|\n|              17.0|     2|\n|              20.0|     2|\n|              82.0|     3|\n+------------------+------+\nonly showing top 20 rows\n"
     ]
    },
    {
     "output_type": "display_data",
     "data": {
      "text/markdown": [
       "Next we will calculate income relative to poverty threshold. To do this we first make new variables with children capped at 8 and adults at 9. "
      ]
     },
     "metadata": {},
     "output_type": "display_data"
    },
    {
     "output_type": "stream",
     "name": "stdout",
     "output_type": "stream",
     "text": [
      "+--------------------+------+\n|          ADULT_cap9| count|\n+--------------------+------+\n|                NULL| 81961|\n|                 1.0| 96588|\n|                 6.0|  2788|\n|                 4.0| 26067|\n|                 5.0|  8557|\n|                 8.0|   402|\n|5.397605346934028...|     1|\n|                 7.0|   911|\n|                 2.0|182543|\n|                 9.0|  4096|\n|                 3.0| 53756|\n+--------------------+------+\n\n"
     ]
    },
    {
     "output_type": "display_data",
     "data": {
      "text/markdown": [
       "Now we have capped variables, we read in the poverty data generated in the convert_census notebook and bin to match the BRFSS data. "
      ]
     },
     "metadata": {},
     "output_type": "display_data"
    },
    {
     "output_type": "stream",
     "name": "stdout",
     "output_type": "stream",
     "text": [
      "+----------------------+------+\n|poverty_threshold_conv| count|\n+----------------------+------+\n|                  NULL|144700|\n|                     2| 79243|\n|                     7| 16199|\n|                     3|176715|\n|                     5|  3586|\n|                     4| 32908|\n|                     6|  4319|\n+----------------------+------+\n\n"
     ]
    },
    {
     "output_type": "display_data",
     "data": {
      "text/markdown": [
       "# Select features and filter"
      ]
     },
     "metadata": {},
     "output_type": "display_data"
    },
    {
     "output_type": "execute_result",
     "data": {
      "text/plain": [
       "[('_AGEG5YR_clean', 'double'),\n",
       " ('EDUCA_clean', 'double'),\n",
       " ('_BMI5', 'double'),\n",
       " ('_SMOKER3_clean', 'double'),\n",
       " ('DRNKANY6_clean', 'double'),\n",
       " ('INCOME3_clean', 'double'),\n",
       " ('num_conditions', 'int'),\n",
       " ('income_adj_pov', 'double'),\n",
       " ('RFHLTH_adj', 'double')]"
      ]
     },
     "execution_count": 20,
     "metadata": {},
     "output_type": "execute_result"
    },
    {
     "output_type": "stream",
     "name": "stdout",
     "output_type": "stream",
     "text": [
      "+--------------+-----------+-----+--------------+--------------+-------------+--------------+--------------+----------+\n|_AGEG5YR_clean|EDUCA_clean|_BMI5|_SMOKER3_clean|DRNKANY6_clean|INCOME3_clean|num_conditions|income_adj_pov|RFHLTH_adj|\n+--------------+-----------+-----+--------------+--------------+-------------+--------------+--------------+----------+\n|          8310|       2363|43037|         32022|         43777|        87423|             0|        199183|      1310|\n+--------------+-----------+-----+--------------+--------------+-------------+--------------+--------------+----------+\n\n"
     ]
    },
    {
     "output_type": "stream",
     "name": "stdout",
     "output_type": "stream",
     "text": [
      "229399\n457670\n"
     ]
    },
    {
     "output_type": "display_data",
     "data": {
      "text/markdown": [
       "We lose a significant proportion of rows (1/2) when we require all values to be present. The 2 major contributors are INCOME3 and income_adj_pov, which derives from missing INCOME3 values and missing children/adults. A more thorough treatment could attempt to impute some of these values. "
      ]
     },
     "metadata": {},
     "output_type": "display_data"
    },
    {
     "output_type": "stream",
     "name": "stdout",
     "output_type": "stream",
     "text": [
      "+----------+------+\n|RFHLTH_adj| count|\n+----------+------+\n|       0.0|185479|\n|       1.0| 43920|\n+----------+------+\n\n"
     ]
    }
   ],
   "source": [
    "%run ./transform_data"
   ]
  },
  {
   "cell_type": "code",
   "execution_count": 0,
   "metadata": {
    "application/vnd.databricks.v1+cell": {
     "cellMetadata": {
      "byteLimit": 2048000,
      "rowLimit": 10000
     },
     "inputWidgets": {},
     "nuid": "9bd86daa-40aa-43ab-9da3-2986e24af11a",
     "showTitle": false,
     "tableResultSettingsMap": {},
     "title": ""
    }
   },
   "outputs": [],
   "source": [
    "# The following imports are not used in this notebook:\n",
    "# from pyspark.sql.functions import lit\n",
    "# from pyspark.mllib.evaluation import MulticlassMetrics\n",
    "# from pyspark.ml.tuning import TrainValidationSplit\n",
    "# from pyspark.sql import functions as F\n",
    "\n",
    "from pyspark.ml.tuning import ParamGridBuilder\n",
    "from pyspark.ml.evaluation import MulticlassClassificationEvaluator\n",
    "from pyspark.ml.tuning import CrossValidator\n",
    "from pyspark.ml.classification import RandomForestClassifier, GBTClassifier, GBTClassificationModel, RandomForestClassificationModel\n",
    "from pyspark.ml.feature import VectorAssembler\n",
    "import matplotlib.pyplot as plt\n",
    "import seaborn as sns"
   ]
  },
  {
   "cell_type": "code",
   "execution_count": 0,
   "metadata": {
    "application/vnd.databricks.v1+cell": {
     "cellMetadata": {
      "byteLimit": 2048000,
      "rowLimit": 10000
     },
     "inputWidgets": {},
     "nuid": "fb2b3d99-1ab5-4b33-b896-f08fc9ef0958",
     "showTitle": false,
     "tableResultSettingsMap": {},
     "title": ""
    }
   },
   "outputs": [],
   "source": [
    "# databricks requires us to set SPARKML_TEMP_DFS_PATH, but this cannot be done via spark config on serverless compute so we use this workaround, same with MLFLOW_DFS_TMP\n",
    "import os\n",
    "os.environ[\"SPARKML_TEMP_DFS_PATH\"] = \"/Volumes/pophealthrisk/pophealthrisk/pophealthrisk/ml-temp\"\n",
    "os.environ[\"MLFLOW_DFS_TMP\"] = \"/Volumes/pophealthrisk/pophealthrisk/pophealthrisk/ml-temp\""
   ]
  },
  {
   "cell_type": "markdown",
   "metadata": {
    "application/vnd.databricks.v1+cell": {
     "cellMetadata": {
      "byteLimit": 2048000,
      "rowLimit": 10000
     },
     "inputWidgets": {},
     "nuid": "27e00b45-5335-4c70-9ef3-189998a87b37",
     "showTitle": false,
     "tableResultSettingsMap": {},
     "title": ""
    }
   },
   "source": [
    "# Hyperparameter tuning approach\n",
    "As we have a large amount of data we will take a train, validate, test approach, as we can assume that sampling effects will be minimal. For smaller data sets, where sampling bias could have an impact, a cross-validation approach would be more appropriate. \n",
    "\n",
    "# Model choice"
   ]
  },
  {
   "cell_type": "code",
   "execution_count": 0,
   "metadata": {
    "application/vnd.databricks.v1+cell": {
     "cellMetadata": {
      "byteLimit": 2048000,
      "rowLimit": 10000
     },
     "inputWidgets": {},
     "nuid": "5d808df5-4e9a-4779-a7bc-d69a40f6c37b",
     "showTitle": false,
     "tableResultSettingsMap": {},
     "title": ""
    }
   },
   "outputs": [
    {
     "output_type": "stream",
     "name": "stdout",
     "output_type": "stream",
     "text": [
      "+----------+-----+\n|RFHLTH_adj|count|\n+----------+-----+\n|       0.0|46486|\n|       1.0|43920|\n+----------+-----+\n\n"
     ]
    }
   ],
   "source": [
    "# balance dataset\n",
    "balanced_df = df_min.sampleBy(\"RFHLTH_adj\", fractions={0: 0.25, 1: 1}, seed=10)\n",
    "balanced_df.groupBy('RFHLTH_adj').count().show()"
   ]
  },
  {
   "cell_type": "code",
   "execution_count": 0,
   "metadata": {
    "application/vnd.databricks.v1+cell": {
     "cellMetadata": {
      "byteLimit": 2048000,
      "rowLimit": 10000
     },
     "inputWidgets": {},
     "nuid": "7137cd90-34e0-4587-ac0c-ddccd065489d",
     "showTitle": false,
     "tableResultSettingsMap": {},
     "title": ""
    }
   },
   "outputs": [
    {
     "output_type": "stream",
     "name": "stdout",
     "output_type": "stream",
     "text": [
      "18022\n72384\n"
     ]
    }
   ],
   "source": [
    "# split data into train and test sets\n",
    "train, test =balanced_df.randomSplit(weights=[0.8,0.2], seed=200)\n",
    "print(test.count())\n",
    "print(train.count())"
   ]
  },
  {
   "cell_type": "code",
   "execution_count": 0,
   "metadata": {
    "application/vnd.databricks.v1+cell": {
     "cellMetadata": {
      "byteLimit": 2048000,
      "rowLimit": 10000
     },
     "inputWidgets": {},
     "nuid": "aeed6f7a-dc76-49cf-a365-4b69a530a7e4",
     "showTitle": false,
     "tableResultSettingsMap": {},
     "title": ""
    }
   },
   "outputs": [],
   "source": [
    "feature_cols=[\"_AGEG5YR_clean\",\"EDUCA_clean\",'_BMI5', '_SMOKER3_clean', 'DRNKANY6_clean','INCOME3_clean','num_conditions','income_adj_pov']\n",
    "\n",
    "assembler = VectorAssembler(\n",
    "    inputCols=feature_cols,\n",
    "    outputCol=\"features\"\n",
    ")\n",
    "\n",
    "train_assembled = assembler.transform(train)"
   ]
  },
  {
   "cell_type": "code",
   "execution_count": 0,
   "metadata": {
    "application/vnd.databricks.v1+cell": {
     "cellMetadata": {
      "byteLimit": 2048000,
      "rowLimit": 10000
     },
     "inputWidgets": {},
     "nuid": "8915e15f-fc36-4d80-8a18-aec7c8e69911",
     "showTitle": false,
     "tableResultSettingsMap": {},
     "title": ""
    }
   },
   "outputs": [],
   "source": [
    "evaluator = MulticlassClassificationEvaluator(\n",
    "    labelCol=\"RFHLTH_adj\",\n",
    "    predictionCol=\"prediction\",\n",
    "    metricName=\"f1\"  # preferable to accuracy as classes aren't balanced\n",
    ")"
   ]
  },
  {
   "cell_type": "code",
   "execution_count": 0,
   "metadata": {
    "application/vnd.databricks.v1+cell": {
     "cellMetadata": {
      "byteLimit": 2048000,
      "rowLimit": 10000
     },
     "inputWidgets": {},
     "nuid": "62e5fa15-3594-4bd5-913b-e3af1c473352",
     "showTitle": false,
     "tableResultSettingsMap": {},
     "title": ""
    }
   },
   "outputs": [],
   "source": [
    "rf = RandomForestClassifier(\n",
    "    labelCol=\"RFHLTH_adj\",\n",
    "    seed=42\n",
    ")\n",
    "paramGrid = (ParamGridBuilder()\n",
    "             .addGrid(rf.numTrees, [100, 200, 300])\n",
    "             .addGrid(rf.maxDepth, [4,6,8])\n",
    "             .build())"
   ]
  },
  {
   "cell_type": "code",
   "execution_count": 0,
   "metadata": {
    "application/vnd.databricks.v1+cell": {
     "cellMetadata": {
      "byteLimit": 2048000,
      "rowLimit": 10000
     },
     "inputWidgets": {},
     "nuid": "e6182768-195c-4828-8263-c5c4b0fd70d3",
     "showTitle": false,
     "tableResultSettingsMap": {},
     "title": ""
    }
   },
   "outputs": [],
   "source": [
    "gbt = GBTClassifier(\n",
    "    labelCol=\"RFHLTH_adj\",\n",
    "    seed=42\n",
    ")\n",
    "paramGridGbt = (ParamGridBuilder()\n",
    "             .addGrid(gbt.maxIter, [10, 20, 30])\n",
    "             .addGrid(gbt.maxDepth, [4,6,8])\n",
    "             .build())"
   ]
  },
  {
   "cell_type": "code",
   "execution_count": 0,
   "metadata": {
    "application/vnd.databricks.v1+cell": {
     "cellMetadata": {
      "byteLimit": 2048000,
      "rowLimit": 10000
     },
     "inputWidgets": {},
     "nuid": "befcb05c-96b0-4f71-9b55-b0993f815e25",
     "showTitle": false,
     "tableResultSettingsMap": {},
     "title": ""
    }
   },
   "outputs": [],
   "source": [
    "cv_gbt = CrossValidator(\n",
    "    estimator=gbt,\n",
    "    estimatorParamMaps=paramGridGbt,\n",
    "    evaluator=evaluator,\n",
    "    numFolds=3,  # or 5\n",
    "    parallelism=4\n",
    ")\n",
    "cv_gbt_fit = cv_gbt.fit(train_assembled)"
   ]
  },
  {
   "cell_type": "code",
   "execution_count": 0,
   "metadata": {
    "application/vnd.databricks.v1+cell": {
     "cellMetadata": {
      "byteLimit": 2048000,
      "rowLimit": 10000
     },
     "inputWidgets": {},
     "nuid": "a71c6c8d-a94a-4490-a6ee-82a0d5284b16",
     "showTitle": false,
     "tableResultSettingsMap": {},
     "title": ""
    }
   },
   "outputs": [],
   "source": [
    "cv_rf = CrossValidator(\n",
    "    estimator=rf,\n",
    "    estimatorParamMaps=paramGrid,\n",
    "    evaluator=evaluator,\n",
    "    numFolds=3,  # or 5\n",
    "    parallelism=4\n",
    ")\n",
    "cv_rf_fit = cv_rf.fit(train_assembled)"
   ]
  },
  {
   "cell_type": "code",
   "execution_count": 0,
   "metadata": {
    "application/vnd.databricks.v1+cell": {
     "cellMetadata": {
      "byteLimit": 2048000,
      "rowLimit": 10000
     },
     "inputWidgets": {},
     "nuid": "7b95aa1d-a888-419b-98e3-5d1d19636d03",
     "showTitle": false,
     "tableResultSettingsMap": {},
     "title": ""
    }
   },
   "outputs": [],
   "source": [
    "rf_results = [\n",
    "    (param[rf.numTrees], param[rf.maxDepth], metric)\n",
    "    for param, metric in zip(paramGrid, cv_rf_fit.avgMetrics)\n",
    "]\n",
    "rf_df = pd.DataFrame(rf_results, columns=[\"Trees_or_Iters\", \"maxDepth\", \"Mean_F1\"])\n",
    "rf_df[\"Model\"] = \"RandomForest\"\n",
    "\n",
    "# --- GBT results ---\n",
    "gbt_results = [\n",
    "    (param[gbt.maxIter], param[gbt.maxDepth], metric)\n",
    "    for param, metric in zip(paramGridGbt, cv_gbt_fit.avgMetrics)\n",
    "]\n",
    "gbt_df = pd.DataFrame(gbt_results, columns=[\"Trees_or_Iters\", \"maxDepth\", \"Mean_F1\"])\n",
    "gbt_df[\"Model\"] = \"GBT\"\n",
    "\n",
    "# Combine results\n",
    "results_df = pd.concat([rf_df, gbt_df], ignore_index=True)"
   ]
  },
  {
   "cell_type": "code",
   "execution_count": 0,
   "metadata": {
    "application/vnd.databricks.v1+cell": {
     "cellMetadata": {
      "byteLimit": 2048000,
      "rowLimit": 10000
     },
     "inputWidgets": {},
     "nuid": "4ed0b96d-894b-40bd-adf3-7d6f62feb4d6",
     "showTitle": false,
     "tableResultSettingsMap": {},
     "title": ""
    }
   },
   "outputs": [
    {
     "output_type": "display_data",
     "data": {
      "image/png": "[encoded data removed]",
      "text/plain": [
       "<Figure size 800x500 with 1 Axes>"
      ]
     },
     "metadata": {},
     "output_type": "display_data"
    }
   ],
   "source": [
    "plt.figure(figsize=(8,5))\n",
    "sns.lineplot(\n",
    "    data=results_df,\n",
    "    x=\"Trees_or_Iters\",\n",
    "    y=\"Mean_F1\",\n",
    "    hue=\"Model\",\n",
    "    style=\"maxDepth\",\n",
    "    markers=True,\n",
    "    dashes=False\n",
    ")\n",
    "plt.title(\"Cross-validated F1 Comparison: Random Forest vs GBT\")\n",
    "plt.ylabel(\"Mean F1 Score\")\n",
    "plt.xlabel(\"numTrees (RF) / maxIter (GBT)\")\n",
    "plt.legend(title=\"Model / maxDepth\")\n",
    "plt.show()"
   ]
  },
  {
   "cell_type": "code",
   "execution_count": 0,
   "metadata": {
    "application/vnd.databricks.v1+cell": {
     "cellMetadata": {
      "byteLimit": 2048000,
      "rowLimit": 10000
     },
     "inputWidgets": {},
     "nuid": "4b7fcf2f-e7f2-4a59-bdd9-9da85c7169c9",
     "showTitle": false,
     "tableResultSettingsMap": {},
     "title": ""
    }
   },
   "outputs": [],
   "source": [
    "# train final model\n",
    "rf_optimal =  RandomForestClassifier(\n",
    "    labelCol=\"RFHLTH_adj\",\n",
    "    seed=42,\n",
    "    numTrees=200,\n",
    "    maxDepth=8\n",
    ")\n",
    "final_model = rf_optimal.fit(train_assembled)"
   ]
  },
  {
   "cell_type": "code",
   "execution_count": 0,
   "metadata": {
    "application/vnd.databricks.v1+cell": {
     "cellMetadata": {
      "byteLimit": 2048000,
      "rowLimit": 10000
     },
     "inputWidgets": {},
     "nuid": "eec5d442-4e74-4824-8b88-6f1ed85de9e2",
     "showTitle": false,
     "tableResultSettingsMap": {},
     "title": ""
    }
   },
   "outputs": [],
   "source": [
    "# save model, this is a quick save so that we do not need to retrain every time\n",
    "final_model.write().overwrite().save(\"/Volumes/pophealthrisk/pophealthrisk/pophealthrisk/models/rf-1\")"
   ]
  },
  {
   "cell_type": "code",
   "execution_count": 0,
   "metadata": {
    "application/vnd.databricks.v1+cell": {
     "cellMetadata": {
      "byteLimit": 2048000,
      "rowLimit": 10000
     },
     "inputWidgets": {},
     "nuid": "e76b256a-1c66-49a9-8a38-c6b75c48cc85",
     "showTitle": false,
     "tableResultSettingsMap": {},
     "title": ""
    }
   },
   "outputs": [],
   "source": [
    "# load model\n",
    "final_model = RandomForestClassificationModel.load(\"/Volumes/pophealthrisk/pophealthrisk/pophealthrisk/models/rf-1\")"
   ]
  },
  {
   "cell_type": "code",
   "execution_count": 0,
   "metadata": {
    "application/vnd.databricks.v1+cell": {
     "cellMetadata": {
      "byteLimit": 2048000,
      "rowLimit": 10000
     },
     "inputWidgets": {},
     "nuid": "74b64a27-4dd6-4215-8a0b-30fecbcff204",
     "showTitle": false,
     "tableResultSettingsMap": {},
     "title": ""
    }
   },
   "outputs": [],
   "source": [
    "test_assembled = assembler.transform(test)"
   ]
  },
  {
   "cell_type": "code",
   "execution_count": 0,
   "metadata": {
    "application/vnd.databricks.v1+cell": {
     "cellMetadata": {
      "byteLimit": 2048000,
      "rowLimit": 10000
     },
     "inputWidgets": {},
     "nuid": "5d2054a5-28c2-48b5-8b28-7198c8591969",
     "showTitle": false,
     "tableResultSettingsMap": {},
     "title": ""
    }
   },
   "outputs": [
    {
     "output_type": "stream",
     "name": "stdout",
     "output_type": "stream",
     "text": [
      "Validation AUC: 0.732873378344535\n"
     ]
    }
   ],
   "source": [
    "preds = final_model.transform(test_assembled)\n",
    "auc = evaluator.evaluate(preds)\n",
    "print(\"Validation AUC:\", auc)"
   ]
  },
  {
   "cell_type": "code",
   "execution_count": 0,
   "metadata": {
    "application/vnd.databricks.v1+cell": {
     "cellMetadata": {
      "byteLimit": 2048000,
      "rowLimit": 10000
     },
     "inputWidgets": {},
     "nuid": "5a42ae03-df9b-43c4-9a14-fef4ad52abde",
     "showTitle": false,
     "tableResultSettingsMap": {},
     "title": ""
    }
   },
   "outputs": [
    {
     "output_type": "display_data",
     "data": {
      "text/html": [
       "<style scoped>\n",
       "  .table-result-container {\n",
       "    max-height: 300px;\n",
       "    overflow: auto;\n",
       "  }\n",
       "  table, th, td {\n",
       "    border: 1px solid black;\n",
       "    border-collapse: collapse;\n",
       "  }\n",
       "  th, td {\n",
       "    padding: 5px;\n",
       "  }\n",
       "  th {\n",
       "    text-align: left;\n",
       "  }\n",
       "</style><div class='table-result-container'><table class='table-result'><thead style='background-color: white'><tr><th>RFHLTH_adj</th><th>prediction</th><th>count</th></tr></thead><tbody><tr><td>0.0</td><td>0.0</td><td>6843</td></tr><tr><td>0.0</td><td>1.0</td><td>2396</td></tr><tr><td>1.0</td><td>0.0</td><td>2418</td></tr><tr><td>1.0</td><td>1.0</td><td>6365</td></tr></tbody></table></div>"
      ]
     },
     "metadata": {
      "application/vnd.databricks.v1+output": {
       "addedWidgets": {},
       "aggData": [],
       "aggError": "",
       "aggOverflow": false,
       "aggSchema": [],
       "aggSeriesLimitReached": false,
       "aggType": "",
       "arguments": {},
       "columnCustomDisplayInfos": {},
       "data": [
        [
         0.0,
         0.0,
         6843
        ],
        [
         0.0,
         1.0,
         2396
        ],
        [
         1.0,
         0.0,
         2418
        ],
        [
         1.0,
         1.0,
         6365
        ]
       ],
       "datasetInfos": [],
       "dbfsResultPath": null,
       "isJsonSchema": true,
       "metadata": {},
       "overflow": false,
       "plotOptions": {
        "customPlotOptions": {},
        "displayType": "table",
        "pivotAggregation": null,
        "pivotColumns": null,
        "xColumns": null,
        "yColumns": null
       },
       "removedWidgets": [],
       "schema": [
        {
         "metadata": "{}",
         "name": "RFHLTH_adj",
         "type": "\"double\""
        },
        {
         "metadata": "{\"ml_attr\": {\"num_vals\": 2, \"type\": \"nominal\"}}",
         "name": "prediction",
         "type": "\"double\""
        },
        {
         "metadata": "{}",
         "name": "count",
         "type": "\"long\""
        }
       ],
       "type": "table"
      }
     },
     "output_type": "display_data"
    }
   ],
   "source": [
    "confusion_matrix = preds.groupBy(\n",
    "    \"RFHLTH_adj\",  # actual label\n",
    "    \"prediction\" # predicted label\n",
    ").count().orderBy(\n",
    "    \"RFHLTH_adj\",\n",
    "    \"prediction\"\n",
    ")\n",
    "\n",
    "display(confusion_matrix)"
   ]
  },
  {
   "cell_type": "markdown",
   "metadata": {
    "application/vnd.databricks.v1+cell": {
     "cellMetadata": {},
     "inputWidgets": {},
     "nuid": "20f4c479-ded3-403d-b3a3-cbb6715d2c6e",
     "showTitle": false,
     "tableResultSettingsMap": {},
     "title": ""
    }
   },
   "source": [
    "# Summary\n",
    "Predictive performance is limited but good enough for this exercise. Due to balancing of the training set, we have fairly balanced predictions without bias. "
   ]
  },
  {
   "cell_type": "code",
   "execution_count": 0,
   "metadata": {
    "application/vnd.databricks.v1+cell": {
     "cellMetadata": {
      "byteLimit": 2048000,
      "rowLimit": 10000
     },
     "inputWidgets": {},
     "nuid": "275f8a25-bba6-4abb-8bae-3f8779975024",
     "showTitle": false,
     "tableResultSettingsMap": {},
     "title": ""
    }
   },
   "outputs": [
    {
     "output_type": "stream",
     "name": "stderr",
     "output_type": "stream",
     "text": [
      "2025/10/13 20:50:55 WARNING mlflow.models.signature: Failed to infer schema for inputs. Setting schema to `Schema([ColSpec(type=AnyType())]` as default. Note that MLflow doesn't validate data types during inference for AnyType. To see the full traceback, set logging level to DEBUG.\n2025/10/13 20:50:55 WARNING mlflow.models.signature: Failed to infer schema for outputs. Setting schema to `Schema([ColSpec(type=AnyType())]` as default. To see the full traceback, set logging level to DEBUG.\n2025/10/13 20:51:03 WARNING mlflow.utils.requirements_utils: Found pyspark version (4.0.0+databricks.connect.17.1.2) contains a local version label (+databricks.connect.17.1.2). MLflow logged a pip requirement for this package as 'pyspark==4.0.0' without the local version label to make it installable from PyPI. To specify pip requirements containing local version labels, please use `conda_env` or `pip_requirements`.\n2025/10/13 20:51:06 WARNING mlflow.utils.environment: Encountered an unexpected error while inferring pip requirements (model URI: /local_disk0/user_tmp_data/spark-4c249b1c-8cbb-4b8f-97f0-cd/tmp_zwa7mow/model, flavor: spark). Fall back to return ['pyspark==4.0.0']. Set logging level to DEBUG to see the full traceback. \n"
     ]
    },
    {
     "output_type": "execute_result",
     "data": {
      "text/plain": [
       "<mlflow.models.model.ModelInfo at 0xff49a34a5100>"
      ]
     },
     "execution_count": 100,
     "metadata": {},
     "output_type": "execute_result"
    }
   ],
   "source": [
    "# Log with mlflow for deployment\n",
    "import mlflow\n",
    "import mlflow.spark\n",
    "from mlflow.models import infer_signature\n",
    "\n",
    "example_df = test_assembled.limit(1).toPandas()\n",
    "predicted_df = final_model.transform(test_assembled.limit(1)).toPandas()\n",
    "signature = infer_signature(example_df, predicted_df)\n",
    "\n",
    "mlflow.spark.log_model(final_model, \"RF\",signature=signature)"
   ]
  }
 ],
 "metadata": {
  "application/vnd.databricks.v1+notebook": {
   "computePreferences": {
    "hardware": {
     "accelerator": null,
     "gpuPoolId": null,
     "memory": null
    }
   },
   "dashboards": [],
   "environmentMetadata": {
    "base_environment": "",
    "dependencies": [
     "-r /Workspace/Users/rowan.howell@gmail.com/PopHealthRisk/requirements.txt"
    ],
    "environment_version": "4"
   },
   "inputWidgetPreferences": null,
   "language": "python",
   "notebookMetadata": {
    "pythonIndentUnit": 4
   },
   "notebookName": "optimise_model",
   "widgets": {}
  },
  "language_info": {
   "name": "python"
  }
 },
 "nbformat": 4,
 "nbformat_minor": 0
}
