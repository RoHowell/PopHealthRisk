{
 "cells": [
  {
   "cell_type": "markdown",
   "metadata": {
    "application/vnd.databricks.v1+cell": {
     "cellMetadata": {},
     "inputWidgets": {},
     "nuid": "f338cfe4-4656-4c0b-b318-328c31d8b165",
     "showTitle": false,
     "tableResultSettingsMap": {},
     "title": ""
    }
   },
   "source": [
    "# Synthetic data generation\n",
    "We want a set of data to use to test model inference. We will generate a synthetic data set with SDV. SDV models statistical relationships between variables to ensure generated data is realistic. "
   ]
  },
  {
   "cell_type": "code",
   "execution_count": 0,
   "metadata": {
    "application/vnd.databricks.v1+cell": {
     "cellMetadata": {
      "byteLimit": 2048000,
      "rowLimit": 10000
     },
     "inputWidgets": {},
     "nuid": "256c64cc-891f-483a-996b-fd3b6384527d",
     "showTitle": false,
     "tableResultSettingsMap": {},
     "title": ""
    },
    "jupyter": {
     "outputs_hidden": true
    }
   },
   "outputs": [
    {
     "output_type": "display_data",
     "data": {
      "text/markdown": [
       "# Transform data\n",
       "In this notebook we perform transformations required to get required features for modelling."
      ]
     },
     "metadata": {},
     "output_type": "display_data"
    },
    {
     "output_type": "display_data",
     "data": {
      "text/markdown": [
       "# Transform data\n",
       "First we will clean variables that contain values that are interpreted as missing or 0 values."
      ]
     },
     "metadata": {},
     "output_type": "display_data"
    },
    {
     "output_type": "stream",
     "name": "stdout",
     "output_type": "stream",
     "text": [
      "+--------------+-----+\n|_AGEG5YR_clean|count|\n+--------------+-----+\n|           1.0|29692|\n|           6.0|28968|\n|           4.0|28804|\n|           5.0|30899|\n|           8.0|34936|\n|           NaN| 8310|\n|          10.0|47701|\n|           7.0|31698|\n|          13.0|41756|\n|          11.0|44774|\n|           2.0|23705|\n|           9.0|43387|\n|          12.0|36803|\n|           3.0|26237|\n+--------------+-----+\n\n"
     ]
    }
   ],
   "source": [
    "%run ./transform_data"
   ]
  },
  {
   "cell_type": "code",
   "execution_count": 0,
   "metadata": {
    "application/vnd.databricks.v1+cell": {
     "cellMetadata": {
      "byteLimit": 2048000,
      "rowLimit": 10000
     },
     "inputWidgets": {},
     "nuid": "c082b038-8f5f-43e8-95d6-e297e0e343e3",
     "showTitle": false,
     "tableResultSettingsMap": {},
     "title": ""
    }
   },
   "outputs": [
    {
     "output_type": "stream",
     "name": "stdout",
     "output_type": "stream",
     "text": [
      "+------------------+------+\n|CHILDREN_clean_mod| count|\n+------------------+------+\n|              14.0|    13|\n|              NULL|  5606|\n|              23.0|     1|\n|               0.0|336299|\n|              32.0|     2|\n|              22.0|     3|\n|              29.0|     1|\n|              18.0|     1|\n|               1.0| 48206|\n|               6.0|   695|\n|              25.0|     1|\n|              15.0|     5|\n|               4.0|  5672|\n|              41.0|     1|\n|               5.0|  1854|\n|               8.0|   127|\n|              81.0|    12|\n|              17.0|     2|\n|              20.0|     2|\n|              82.0|     3|\n+------------------+------+\nonly showing top 20 rows\n"
     ]
    },
    {
     "output_type": "display_data",
     "data": {
      "text/markdown": [
       "Next we will calculate income relative to poverty threshold. To do this we first make new variables with children capped at 8 and adults at 9. "
      ]
     },
     "metadata": {},
     "output_type": "display_data"
    }
   ],
   "source": [
    "# transform a small set to pandas to use to generate synthetic data\n",
    "pdf = df_min.sample(fraction=0.05).toPandas()"
   ]
  },
  {
   "cell_type": "code",
   "execution_count": 0,
   "metadata": {
    "application/vnd.databricks.v1+cell": {
     "cellMetadata": {
      "byteLimit": 2048000,
      "rowLimit": 10000
     },
     "inputWidgets": {},
     "nuid": "32884b91-bfd2-4041-916e-a39461b6f05f",
     "showTitle": false,
     "tableResultSettingsMap": {},
     "title": ""
    }
   },
   "outputs": [
    {
     "output_type": "stream",
     "name": "stderr",
     "output_type": "stream",
     "text": [
      "/local_disk0/.ephemeral_nfs/envs/pythonEnv-2b74f190-4707-4ce4-bc7d-6a9e4ede1ad5/lib/python3.12/site-packages/sdv/metadata/visualization.py:118: RuntimeWarning: Graphviz does not seem to be installed on this system. For full metadata visualization capabilities, please make sure to have its binaries propertly installed: https://graphviz.gitlab.io/download/\n  warnings.warn(warning_message, RuntimeWarning)\n"
     ]
    },
    {
     "output_type": "display_data",
     "data": {
      "text/plain": [
       "<graphviz.graphs.Digraph at 0xffb6d2d573b0>"
      ]
     },
     "metadata": {},
     "output_type": "display_data"
    },
    {
     "output_type": "stream",
     "name": "stdout",
     "output_type": "stream",
     "text": [
      "+--------------------+------+\n|          ADULT_cap9| count|\n+--------------------+------+\n|                NULL| 81961|\n|                 1.0| 96588|\n|                 6.0|  2788|\n|                 4.0| 26067|\n|                 5.0|  8557|\n|                 8.0|   402|\n|5.397605346934028...|     1|\n|                 7.0|   911|\n|                 2.0|182543|\n|                 9.0|  4096|\n|                 3.0| 53756|\n+--------------------+------+\n\n"
     ]
    },
    {
     "output_type": "display_data",
     "data": {
      "text/markdown": [
       "Now we have capped variables, we read in the poverty data generated in the convert_census notebook and bin to match the BRFSS data. "
      ]
     },
     "metadata": {},
     "output_type": "display_data"
    },
    {
     "output_type": "stream",
     "name": "stdout",
     "output_type": "stream",
     "text": [
      "+----------------------+------+\n|poverty_threshold_conv| count|\n+----------------------+------+\n|                  NULL|144700|\n|                     2| 79243|\n|                     7| 16199|\n|                     3|176715|\n|                     5|  3586|\n|                     4| 32908|\n|                     6|  4319|\n+----------------------+------+\n\n"
     ]
    },
    {
     "output_type": "display_data",
     "data": {
      "text/markdown": [
       "# Select features and filter"
      ]
     },
     "metadata": {},
     "output_type": "display_data"
    },
    {
     "output_type": "execute_result",
     "data": {
      "text/plain": [
       "[('_AGEG5YR_clean', 'double'),\n",
       " ('EDUCA_clean', 'double'),\n",
       " ('_BMI5', 'double'),\n",
       " ('_SMOKER3_clean', 'double'),\n",
       " ('DRNKANY6_clean', 'double'),\n",
       " ('INCOME3_clean', 'double'),\n",
       " ('num_conditions', 'int'),\n",
       " ('income_adj_pov', 'double'),\n",
       " ('RFHLTH_adj', 'double')]"
      ]
     },
     "execution_count": 19,
     "metadata": {},
     "output_type": "execute_result"
    },
    {
     "output_type": "stream",
     "name": "stdout",
     "output_type": "stream",
     "text": [
      "+--------------+-----------+-----+--------------+--------------+-------------+--------------+--------------+----------+\n|_AGEG5YR_clean|EDUCA_clean|_BMI5|_SMOKER3_clean|DRNKANY6_clean|INCOME3_clean|num_conditions|income_adj_pov|RFHLTH_adj|\n+--------------+-----------+-----+--------------+--------------+-------------+--------------+--------------+----------+\n|          8310|       2363|43037|         32022|         43777|        87423|             0|        199183|      1310|\n+--------------+-----------+-----+--------------+--------------+-------------+--------------+--------------+----------+\n\n"
     ]
    },
    {
     "output_type": "stream",
     "name": "stdout",
     "output_type": "stream",
     "text": [
      "229399\n457670\n"
     ]
    },
    {
     "output_type": "display_data",
     "data": {
      "text/markdown": [
       "We lose a significant proportion of rows (1/2) when we require all values to be present. The 2 major contributors are INCOME3 and income_adj_pov, which derives from missing INCOME3 values and missing children/adults. A more thorough treatment could attempt to impute some of these values. "
      ]
     },
     "metadata": {},
     "output_type": "display_data"
    },
    {
     "output_type": "stream",
     "name": "stdout",
     "output_type": "stream",
     "text": [
      "+----------+------+\n|RFHLTH_adj| count|\n+----------+------+\n|       0.0|185479|\n|       1.0| 43920|\n+----------+------+\n\n"
     ]
    }
   ],
   "source": [
    "# infer metadata\n",
    "from sdv.metadata import Metadata\n",
    "metadata = Metadata.detect_from_dataframes(data= {'data':pdf})"
   ]
  },
  {
   "cell_type": "code",
   "execution_count": 0,
   "metadata": {
    "application/vnd.databricks.v1+cell": {
     "cellMetadata": {
      "byteLimit": 2048000,
      "rowLimit": 10000
     },
     "inputWidgets": {},
     "nuid": "3d04fdf3-d710-4e29-ae21-2171687cd9dd",
     "showTitle": false,
     "tableResultSettingsMap": {},
     "title": ""
    }
   },
   "outputs": [],
   "source": [
    "# create a synthesizer with the sample dataset and generate 100 rows of synthetic data\n",
    "from sdv.single_table import GaussianCopulaSynthesizer\n",
    "\n",
    "synthesizer = GaussianCopulaSynthesizer(metadata)\n",
    "synthesizer.fit(pdf)\n",
    "\n",
    "synthetic_data = synthesizer.sample(num_rows=100)"
   ]
  },
  {
   "cell_type": "code",
   "execution_count": 0,
   "metadata": {
    "application/vnd.databricks.v1+cell": {
     "cellMetadata": {
      "byteLimit": 2048000,
      "rowLimit": 10000
     },
     "inputWidgets": {},
     "nuid": "28495138-2656-49ec-8f6d-d51bfc70e3f1",
     "showTitle": false,
     "tableResultSettingsMap": {},
     "title": ""
    }
   },
   "outputs": [
    {
     "output_type": "execute_result",
     "data": {
      "text/html": [
       "<div>\n",
       "<style scoped>\n",
       "    .dataframe tbody tr th:only-of-type {\n",
       "        vertical-align: middle;\n",
       "    }\n",
       "\n",
       "    .dataframe tbody tr th {\n",
       "        vertical-align: top;\n",
       "    }\n",
       "\n",
       "    .dataframe thead th {\n",
       "        text-align: right;\n",
       "    }\n",
       "</style>\n",
       "<table border=\"1\" class=\"dataframe\">\n",
       "  <thead>\n",
       "    <tr style=\"text-align: right;\">\n",
       "      <th></th>\n",
       "      <th>_AGEG5YR_clean</th>\n",
       "      <th>EDUCA_clean</th>\n",
       "      <th>_BMI5</th>\n",
       "      <th>_SMOKER3_clean</th>\n",
       "      <th>DRNKANY6_clean</th>\n",
       "      <th>INCOME3_clean</th>\n",
       "      <th>num_conditions</th>\n",
       "      <th>income_adj_pov</th>\n",
       "      <th>RFHLTH_adj</th>\n",
       "    </tr>\n",
       "  </thead>\n",
       "  <tbody>\n",
       "    <tr>\n",
       "      <th>0</th>\n",
       "      <td>11.0</td>\n",
       "      <td>6.0</td>\n",
       "      <td>2588.0</td>\n",
       "      <td>4.0</td>\n",
       "      <td>2.0</td>\n",
       "      <td>5.0</td>\n",
       "      <td>3</td>\n",
       "      <td>3.0</td>\n",
       "      <td>1.0</td>\n",
       "    </tr>\n",
       "    <tr>\n",
       "      <th>1</th>\n",
       "      <td>4.0</td>\n",
       "      <td>5.0</td>\n",
       "      <td>3100.0</td>\n",
       "      <td>4.0</td>\n",
       "      <td>1.0</td>\n",
       "      <td>10.0</td>\n",
       "      <td>2</td>\n",
       "      <td>5.0</td>\n",
       "      <td>0.0</td>\n",
       "    </tr>\n",
       "    <tr>\n",
       "      <th>2</th>\n",
       "      <td>4.0</td>\n",
       "      <td>5.0</td>\n",
       "      <td>3457.0</td>\n",
       "      <td>3.0</td>\n",
       "      <td>2.0</td>\n",
       "      <td>7.0</td>\n",
       "      <td>1</td>\n",
       "      <td>5.0</td>\n",
       "      <td>0.0</td>\n",
       "    </tr>\n",
       "    <tr>\n",
       "      <th>3</th>\n",
       "      <td>6.0</td>\n",
       "      <td>3.0</td>\n",
       "      <td>2517.0</td>\n",
       "      <td>3.0</td>\n",
       "      <td>2.0</td>\n",
       "      <td>8.0</td>\n",
       "      <td>0</td>\n",
       "      <td>6.0</td>\n",
       "      <td>0.0</td>\n",
       "    </tr>\n",
       "    <tr>\n",
       "      <th>4</th>\n",
       "      <td>11.0</td>\n",
       "      <td>6.0</td>\n",
       "      <td>3306.0</td>\n",
       "      <td>4.0</td>\n",
       "      <td>1.0</td>\n",
       "      <td>7.0</td>\n",
       "      <td>1</td>\n",
       "      <td>5.0</td>\n",
       "      <td>0.0</td>\n",
       "    </tr>\n",
       "    <tr>\n",
       "      <th>...</th>\n",
       "      <td>...</td>\n",
       "      <td>...</td>\n",
       "      <td>...</td>\n",
       "      <td>...</td>\n",
       "      <td>...</td>\n",
       "      <td>...</td>\n",
       "      <td>...</td>\n",
       "      <td>...</td>\n",
       "      <td>...</td>\n",
       "    </tr>\n",
       "    <tr>\n",
       "      <th>95</th>\n",
       "      <td>11.0</td>\n",
       "      <td>4.0</td>\n",
       "      <td>3297.0</td>\n",
       "      <td>4.0</td>\n",
       "      <td>2.0</td>\n",
       "      <td>1.0</td>\n",
       "      <td>5</td>\n",
       "      <td>-2.0</td>\n",
       "      <td>0.0</td>\n",
       "    </tr>\n",
       "    <tr>\n",
       "      <th>96</th>\n",
       "      <td>2.0</td>\n",
       "      <td>4.0</td>\n",
       "      <td>2429.0</td>\n",
       "      <td>4.0</td>\n",
       "      <td>1.0</td>\n",
       "      <td>8.0</td>\n",
       "      <td>0</td>\n",
       "      <td>5.0</td>\n",
       "      <td>0.0</td>\n",
       "    </tr>\n",
       "    <tr>\n",
       "      <th>97</th>\n",
       "      <td>3.0</td>\n",
       "      <td>3.0</td>\n",
       "      <td>2151.0</td>\n",
       "      <td>4.0</td>\n",
       "      <td>1.0</td>\n",
       "      <td>6.0</td>\n",
       "      <td>1</td>\n",
       "      <td>2.0</td>\n",
       "      <td>0.0</td>\n",
       "    </tr>\n",
       "    <tr>\n",
       "      <th>98</th>\n",
       "      <td>10.0</td>\n",
       "      <td>6.0</td>\n",
       "      <td>3592.0</td>\n",
       "      <td>3.0</td>\n",
       "      <td>1.0</td>\n",
       "      <td>2.0</td>\n",
       "      <td>3</td>\n",
       "      <td>0.0</td>\n",
       "      <td>1.0</td>\n",
       "    </tr>\n",
       "    <tr>\n",
       "      <th>99</th>\n",
       "      <td>4.0</td>\n",
       "      <td>5.0</td>\n",
       "      <td>2183.0</td>\n",
       "      <td>1.0</td>\n",
       "      <td>1.0</td>\n",
       "      <td>10.0</td>\n",
       "      <td>5</td>\n",
       "      <td>5.0</td>\n",
       "      <td>1.0</td>\n",
       "    </tr>\n",
       "  </tbody>\n",
       "</table>\n",
       "<p>100 rows × 9 columns</p>\n",
       "</div>"
      ],
      "text/plain": [
       "    _AGEG5YR_clean  EDUCA_clean  ...  income_adj_pov  RFHLTH_adj\n",
       "0             11.0          6.0  ...             3.0         1.0\n",
       "1              4.0          5.0  ...             5.0         0.0\n",
       "2              4.0          5.0  ...             5.0         0.0\n",
       "3              6.0          3.0  ...             6.0         0.0\n",
       "4             11.0          6.0  ...             5.0         0.0\n",
       "..             ...          ...  ...             ...         ...\n",
       "95            11.0          4.0  ...            -2.0         0.0\n",
       "96             2.0          4.0  ...             5.0         0.0\n",
       "97             3.0          3.0  ...             2.0         0.0\n",
       "98            10.0          6.0  ...             0.0         1.0\n",
       "99             4.0          5.0  ...             5.0         1.0\n",
       "\n",
       "[100 rows x 9 columns]"
      ]
     },
     "execution_count": 48,
     "metadata": {},
     "output_type": "execute_result"
    }
   ],
   "source": [
    "# manually examine the synthetic data\n",
    "synthetic_data"
   ]
  },
  {
   "cell_type": "code",
   "execution_count": 0,
   "metadata": {
    "application/vnd.databricks.v1+cell": {
     "cellMetadata": {
      "byteLimit": 2048000,
      "rowLimit": 10000
     },
     "inputWidgets": {},
     "nuid": "435ec195-a0e2-4647-a104-7ce6d23ec898",
     "showTitle": false,
     "tableResultSettingsMap": {},
     "title": ""
    }
   },
   "outputs": [],
   "source": [
    "synthetic_data.to_parquet('/Volumes/pophealthrisk/pophealthrisk/pophealthrisk/synthetic_data.parquet')"
   ]
  }
 ],
 "metadata": {
  "application/vnd.databricks.v1+notebook": {
   "computePreferences": {
    "hardware": {
     "accelerator": null,
     "gpuPoolId": null,
     "memory": null
    }
   },
   "dashboards": [],
   "environmentMetadata": {
    "base_environment": "",
    "dependencies": [
     "sdv",
     "graphviz"
    ],
    "environment_version": "4"
   },
   "inputWidgetPreferences": null,
   "language": "python",
   "notebookMetadata": {
    "pythonIndentUnit": 4
   },
   "notebookName": "make_synthetic_data",
   "widgets": {}
  },
  "language_info": {
   "name": "python"
  }
 },
 "nbformat": 4,
 "nbformat_minor": 0
}
