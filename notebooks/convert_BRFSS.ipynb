{
 "cells": [
  {
   "cell_type": "markdown",
   "id": "b5e39d2c-b972-4a34-85b3-87de376fc9eb",
   "metadata": {},
   "source": [
    "# Converting BRFSS data\n",
    "\n",
    "In this script, we read in BRFSS data in .xpt file format and convert to parquet for use with sparks in databricks. Note that fortunately this data set is small enough to store in memory, if it was much larger we may need to find an alternative way to perform this task. \n"
   ]
  },
  {
   "cell_type": "code",
   "execution_count": 20,
   "id": "0b9e9708-f200-4522-8ded-70751e22c5f7",
   "metadata": {},
   "outputs": [],
   "source": [
    "import pandas as pd\n",
    "import pyarrow as pa\n",
    "import pyarrow.parquet as pq\n",
    "import os"
   ]
  },
  {
   "cell_type": "code",
   "execution_count": 10,
   "id": "2508a363-20da-4679-9474-1e317e1d6015",
   "metadata": {},
   "outputs": [],
   "source": [
    "os.chdir(\"..\")"
   ]
  },
  {
   "cell_type": "code",
   "execution_count": 17,
   "id": "eb602485-3b8e-4c62-939a-20b2f20faa7c",
   "metadata": {},
   "outputs": [],
   "source": [
    "data=pd.read_sas('data/LLCP2024XPT/LLCP2024.xpt', encoding = 'UTF-8')"
   ]
  },
  {
   "cell_type": "code",
   "execution_count": 23,
   "id": "e786d608-c6bc-4e1f-bd96-f5e82dccc149",
   "metadata": {},
   "outputs": [],
   "source": [
    "table = pa.Table.from_pandas(data)\n",
    "pq.write_table(table, 'data/LLCP2024.parquet')"
   ]
  },
  {
   "cell_type": "code",
   "execution_count": null,
   "id": "83c71933-f878-4b2a-8e48-efbcba75ba39",
   "metadata": {},
   "outputs": [],
   "source": []
  }
 ],
 "metadata": {
  "kernelspec": {
   "display_name": "Python 3 (ipykernel)",
   "language": "python",
   "name": "python3"
  },
  "language_info": {
   "codemirror_mode": {
    "name": "ipython",
    "version": 3
   },
   "file_extension": ".py",
   "mimetype": "text/x-python",
   "name": "python",
   "nbconvert_exporter": "python",
   "pygments_lexer": "ipython3",
   "version": "3.12.2"
  }
 },
 "nbformat": 4,
 "nbformat_minor": 5
}
